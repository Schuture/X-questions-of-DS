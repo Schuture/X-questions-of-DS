{
 "cells": [
  {
   "cell_type": "markdown",
   "metadata": {},
   "source": [
    "# 1 初识PyTorch"
   ]
  },
  {
   "cell_type": "markdown",
   "metadata": {},
   "source": [
    "## 1.1 张量"
   ]
  },
  {
   "cell_type": "markdown",
   "metadata": {},
   "source": [
    "1. 导入pytorch包"
   ]
  },
  {
   "cell_type": "code",
   "execution_count": 1,
   "metadata": {},
   "outputs": [],
   "source": [
    "import torch"
   ]
  },
  {
   "cell_type": "markdown",
   "metadata": {},
   "source": [
    "2.创建一个空的5x3张量"
   ]
  },
  {
   "cell_type": "code",
   "execution_count": 2,
   "metadata": {},
   "outputs": [
    {
     "name": "stdout",
     "output_type": "stream",
     "text": [
      "tensor([[-1.7518e-38,  5.6332e-43, -1.7518e-38],\n",
      "        [ 5.6332e-43, -1.7521e-38,  5.6332e-43],\n",
      "        [-1.7521e-38,  5.6332e-43, -1.7521e-38],\n",
      "        [ 5.6332e-43, -1.7521e-38,  5.6332e-43],\n",
      "        [-1.7521e-38,  5.6332e-43, -1.7521e-38]])\n"
     ]
    }
   ],
   "source": [
    "x = torch.empty((5, 3))\n",
    "print(x)"
   ]
  },
  {
   "cell_type": "markdown",
   "metadata": {},
   "source": [
    "3.创建一个随机初始化的5x3张量"
   ]
  },
  {
   "cell_type": "code",
   "execution_count": 3,
   "metadata": {},
   "outputs": [
    {
     "name": "stdout",
     "output_type": "stream",
     "text": [
      "tensor([[0.6776, 0.5323, 0.9954],\n",
      "        [0.3932, 0.4816, 0.2832],\n",
      "        [0.0444, 0.3365, 0.2414],\n",
      "        [0.9194, 0.5321, 0.6897],\n",
      "        [0.4627, 0.9338, 0.7100]])\n"
     ]
    }
   ],
   "source": [
    "x = torch.rand((5, 3)) # 0-1之间的随机数\n",
    "print(x)"
   ]
  },
  {
   "cell_type": "markdown",
   "metadata": {},
   "source": [
    "4.创建一个5x3的0张量，类型为long"
   ]
  },
  {
   "cell_type": "code",
   "execution_count": 4,
   "metadata": {},
   "outputs": [
    {
     "name": "stdout",
     "output_type": "stream",
     "text": [
      "tensor([[0, 0, 0],\n",
      "        [0, 0, 0],\n",
      "        [0, 0, 0],\n",
      "        [0, 0, 0],\n",
      "        [0, 0, 0]])\n"
     ]
    }
   ],
   "source": [
    "x = torch.zeros((5, 3), dtype = torch.long)\n",
    "print(x)"
   ]
  },
  {
   "cell_type": "markdown",
   "metadata": {},
   "source": [
    "5.直接从数组创建张量"
   ]
  },
  {
   "cell_type": "code",
   "execution_count": 5,
   "metadata": {},
   "outputs": [
    {
     "name": "stdout",
     "output_type": "stream",
     "text": [
      "tensor([[1.2000, 2.3000],\n",
      "        [3.4000, 4.5000]])\n"
     ]
    }
   ],
   "source": [
    "x = torch.tensor([[1.2, 2.3],[3.4, 4.5]])\n",
    "print(x)"
   ]
  },
  {
   "cell_type": "markdown",
   "metadata": {},
   "source": [
    "6.创建一个5x3的单位张量，类型为double"
   ]
  },
  {
   "cell_type": "code",
   "execution_count": 6,
   "metadata": {},
   "outputs": [
    {
     "name": "stdout",
     "output_type": "stream",
     "text": [
      "tensor([[1., 1., 1.],\n",
      "        [1., 1., 1.],\n",
      "        [1., 1., 1.],\n",
      "        [1., 1., 1.],\n",
      "        [1., 1., 1.]], dtype=torch.float64)\n"
     ]
    }
   ],
   "source": [
    "x = torch.ones((5, 3), dtype = torch.double)\n",
    "print(x)"
   ]
  },
  {
   "cell_type": "markdown",
   "metadata": {},
   "source": [
    "7.从已有的张量创建相同维度的新张量，并且重新定义类型为float"
   ]
  },
  {
   "cell_type": "code",
   "execution_count": 7,
   "metadata": {},
   "outputs": [
    {
     "name": "stdout",
     "output_type": "stream",
     "text": [
      "tensor([[ 0.7398,  0.1018,  1.1250],\n",
      "        [ 1.1073,  0.7772,  0.8658],\n",
      "        [ 1.3836,  0.4368,  0.2084],\n",
      "        [ 1.1584, -0.6555,  0.0042],\n",
      "        [-0.8363,  0.8913, -0.9813]])\n"
     ]
    }
   ],
   "source": [
    "x = torch.randn_like(x, dtype = torch.float)\n",
    "print(x)"
   ]
  },
  {
   "cell_type": "markdown",
   "metadata": {},
   "source": [
    "8.打印一个张量的维度"
   ]
  },
  {
   "cell_type": "code",
   "execution_count": 8,
   "metadata": {},
   "outputs": [
    {
     "name": "stdout",
     "output_type": "stream",
     "text": [
      "torch.Size([5, 3])\n",
      "torch.Size([5, 3])\n"
     ]
    }
   ],
   "source": [
    "print(x.shape)\n",
    "print(x.size())"
   ]
  },
  {
   "cell_type": "markdown",
   "metadata": {},
   "source": [
    "9.将两个张量相加"
   ]
  },
  {
   "cell_type": "code",
   "execution_count": 9,
   "metadata": {},
   "outputs": [
    {
     "name": "stdout",
     "output_type": "stream",
     "text": [
      "tensor([[ 0.8630,  0.7404,  1.2273],\n",
      "        [ 1.3003,  1.5158,  1.0683],\n",
      "        [ 1.5018,  0.5004,  0.7562],\n",
      "        [ 1.4257, -0.2252,  0.3754],\n",
      "        [-0.8174,  1.5997, -0.8546]])\n",
      "tensor([[ 0.8630,  0.7404,  1.2273],\n",
      "        [ 1.3003,  1.5158,  1.0683],\n",
      "        [ 1.5018,  0.5004,  0.7562],\n",
      "        [ 1.4257, -0.2252,  0.3754],\n",
      "        [-0.8174,  1.5997, -0.8546]])\n",
      "tensor([[ 0.8630,  0.7404,  1.2273],\n",
      "        [ 1.3003,  1.5158,  1.0683],\n",
      "        [ 1.5018,  0.5004,  0.7562],\n",
      "        [ 1.4257, -0.2252,  0.3754],\n",
      "        [-0.8174,  1.5997, -0.8546]])\n",
      "tensor([[ 0.8630,  0.7404,  1.2273],\n",
      "        [ 1.3003,  1.5158,  1.0683],\n",
      "        [ 1.5018,  0.5004,  0.7562],\n",
      "        [ 1.4257, -0.2252,  0.3754],\n",
      "        [-0.8174,  1.5997, -0.8546]])\n"
     ]
    }
   ],
   "source": [
    "y = torch.rand((5, 3))\n",
    "print(x + y)\n",
    "\n",
    "# 方法二，torch内部加法操作\n",
    "print(torch.add(x, y))\n",
    "\n",
    "# 方法三，输出重定向\n",
    "result = torch.empty((5, 3))\n",
    "torch.add(x, y, out = result)\n",
    "print(result)\n",
    "\n",
    "# 方法四，原地操作\n",
    "y.add_(x)\n",
    "print(y)"
   ]
  },
  {
   "cell_type": "markdown",
   "metadata": {},
   "source": [
    "10.取张量的第一列"
   ]
  },
  {
   "cell_type": "code",
   "execution_count": 10,
   "metadata": {},
   "outputs": [
    {
     "name": "stdout",
     "output_type": "stream",
     "text": [
      "tensor([ 0.7398,  1.1073,  1.3836,  1.1584, -0.8363])\n"
     ]
    }
   ],
   "source": [
    "print(x[:, 0])"
   ]
  },
  {
   "cell_type": "markdown",
   "metadata": {},
   "source": [
    "11.将一个4x4的张量resize成一个一维张量"
   ]
  },
  {
   "cell_type": "code",
   "execution_count": 11,
   "metadata": {},
   "outputs": [
    {
     "name": "stdout",
     "output_type": "stream",
     "text": [
      "torch.Size([4, 4]) torch.Size([16])\n"
     ]
    }
   ],
   "source": [
    "x = torch.randn((4, 4))\n",
    "y = x.view(16)\n",
    "print(x.size(), y.size())"
   ]
  },
  {
   "cell_type": "markdown",
   "metadata": {},
   "source": [
    "12.将一个4x4张量resize成一个2x8张量"
   ]
  },
  {
   "cell_type": "code",
   "execution_count": 12,
   "metadata": {},
   "outputs": [
    {
     "name": "stdout",
     "output_type": "stream",
     "text": [
      "torch.Size([4, 4]) torch.Size([2, 8])\n",
      "torch.Size([4, 4]) torch.Size([2, 8])\n"
     ]
    }
   ],
   "source": [
    "y = x.view((2, 8))\n",
    "print(x.size(), y.size())\n",
    "\n",
    "# 方法二，维度设置为-1就可以自动计算\n",
    "y = x.view((-1, 8))\n",
    "print(x.size(), y.size())"
   ]
  },
  {
   "cell_type": "markdown",
   "metadata": {},
   "source": [
    "13.从张量中取出数字"
   ]
  },
  {
   "cell_type": "code",
   "execution_count": 13,
   "metadata": {},
   "outputs": [
    {
     "name": "stdout",
     "output_type": "stream",
     "text": [
      "tensor([0.9536])\n",
      "0.9536065459251404\n"
     ]
    }
   ],
   "source": [
    "x = torch.randn([1])\n",
    "print(x)\n",
    "print(x.item())"
   ]
  },
  {
   "cell_type": "markdown",
   "metadata": {},
   "source": [
    "## 1.2 Numpy的操作"
   ]
  },
  {
   "cell_type": "markdown",
   "metadata": {},
   "source": [
    "14.将张量转换为numpy数组"
   ]
  },
  {
   "cell_type": "code",
   "execution_count": 14,
   "metadata": {},
   "outputs": [
    {
     "name": "stdout",
     "output_type": "stream",
     "text": [
      "tensor([1., 1., 1., 1., 1.])\n",
      "[1. 1. 1. 1. 1.] <class 'numpy.ndarray'>\n"
     ]
    }
   ],
   "source": [
    "a = torch.ones([5])\n",
    "print(a)\n",
    "\n",
    "b = a.numpy()\n",
    "print(b, type(b))"
   ]
  },
  {
   "cell_type": "markdown",
   "metadata": {},
   "source": [
    "15.将张量+1，并观察上题中numpy数组的变化"
   ]
  },
  {
   "cell_type": "code",
   "execution_count": 15,
   "metadata": {},
   "outputs": [
    {
     "name": "stdout",
     "output_type": "stream",
     "text": [
      "tensor([2., 2., 2., 2., 2.])\n",
      "[2. 2. 2. 2. 2.]\n"
     ]
    }
   ],
   "source": [
    "a.add_(1)\n",
    "print(a)\n",
    "print(b)"
   ]
  },
  {
   "cell_type": "markdown",
   "metadata": {},
   "source": [
    "16.从numpy数组创建张量"
   ]
  },
  {
   "cell_type": "code",
   "execution_count": 16,
   "metadata": {},
   "outputs": [
    {
     "name": "stdout",
     "output_type": "stream",
     "text": [
      "[1. 1. 1. 1. 1.]\n",
      "tensor([1., 1., 1., 1., 1.], dtype=torch.float64)\n"
     ]
    }
   ],
   "source": [
    "import numpy as np\n",
    "a = np.ones((5))\n",
    "b = torch.from_numpy(a)\n",
    "print(a)\n",
    "print(b)"
   ]
  },
  {
   "cell_type": "markdown",
   "metadata": {},
   "source": [
    "17.将numpy数组+1并观察上题中张量的变化"
   ]
  },
  {
   "cell_type": "code",
   "execution_count": 17,
   "metadata": {},
   "outputs": [
    {
     "name": "stdout",
     "output_type": "stream",
     "text": [
      "[2. 2. 2. 2. 2.]\n",
      "tensor([2., 2., 2., 2., 2.], dtype=torch.float64)\n"
     ]
    }
   ],
   "source": [
    "a += 1\n",
    "print(a)\n",
    "print(b)"
   ]
  },
  {
   "cell_type": "markdown",
   "metadata": {},
   "source": [
    "从上面几个例子我们可以看出，tensor与ndarray类型的互相转换实质上不会创建新数据，是原地的。所以一旦两者之一被修改，另一个变量也会改变。"
   ]
  },
  {
   "cell_type": "markdown",
   "metadata": {},
   "source": [
    "# 2 自动微分"
   ]
  },
  {
   "cell_type": "markdown",
   "metadata": {},
   "source": [
    "## 2.1 张量的自动微分"
   ]
  },
  {
   "cell_type": "markdown",
   "metadata": {},
   "source": [
    "18.新建一个张量，并设置requires_grad = True"
   ]
  },
  {
   "cell_type": "code",
   "execution_count": 18,
   "metadata": {},
   "outputs": [
    {
     "name": "stdout",
     "output_type": "stream",
     "text": [
      "tensor([[1., 1.],\n",
      "        [1., 1.]], requires_grad=True)\n"
     ]
    }
   ],
   "source": [
    "x = torch.ones((2, 2), requires_grad = True)\n",
    "print(x)"
   ]
  },
  {
   "cell_type": "markdown",
   "metadata": {},
   "source": [
    "19.对张量进行y = x+2操作"
   ]
  },
  {
   "cell_type": "code",
   "execution_count": 19,
   "metadata": {},
   "outputs": [
    {
     "name": "stdout",
     "output_type": "stream",
     "text": [
      "tensor([[3., 3.],\n",
      "        [3., 3.]], grad_fn=<AddBackward0>)\n",
      "<AddBackward0 object at 0x00000192827E2E80>\n"
     ]
    }
   ],
   "source": [
    "y = x + 2\n",
    "print(y)\n",
    "print(y.grad_fn) # 这个函数表示y是如何计算出来的，AddBackward为反向传播加法"
   ]
  },
  {
   "cell_type": "markdown",
   "metadata": {},
   "source": [
    "20.对y进行任意操作变成out，查看这个变量"
   ]
  },
  {
   "cell_type": "code",
   "execution_count": 20,
   "metadata": {},
   "outputs": [
    {
     "name": "stdout",
     "output_type": "stream",
     "text": [
      "tensor([[8103.0840, 8103.0840],\n",
      "        [8103.0840, 8103.0840]], grad_fn=<ExpBackward>)\n",
      "tensor(8103.0840, grad_fn=<MeanBackward0>)\n"
     ]
    }
   ],
   "source": [
    "z = torch.exp(y * y)\n",
    "out = z.mean()\n",
    "\n",
    "print(z)\n",
    "print(out)"
   ]
  },
  {
   "cell_type": "markdown",
   "metadata": {},
   "source": [
    "## 2.2 梯度"
   ]
  },
  {
   "cell_type": "markdown",
   "metadata": {},
   "source": [
    "21.对out进行反向传播"
   ]
  },
  {
   "cell_type": "code",
   "execution_count": 21,
   "metadata": {},
   "outputs": [],
   "source": [
    "out.backward()"
   ]
  },
  {
   "cell_type": "markdown",
   "metadata": {},
   "source": [
    "22.打印梯度d(out)/dx"
   ]
  },
  {
   "cell_type": "code",
   "execution_count": 22,
   "metadata": {},
   "outputs": [
    {
     "name": "stdout",
     "output_type": "stream",
     "text": [
      "tensor([[12154.6260, 12154.6260],\n",
      "        [12154.6260, 12154.6260]])\n"
     ]
    }
   ],
   "source": [
    "print(x.grad)"
   ]
  },
  {
   "cell_type": "markdown",
   "metadata": {},
   "source": [
    "23.创建一个结果为向量的计算 y = x * 2^n"
   ]
  },
  {
   "cell_type": "code",
   "execution_count": 23,
   "metadata": {},
   "outputs": [
    {
     "name": "stdout",
     "output_type": "stream",
     "text": [
      "tensor([  177.2027,  -646.1129, -1808.8383], grad_fn=<MulBackward0>)\n"
     ]
    }
   ],
   "source": [
    "x = torch.randn(3, requires_grad = True)\n",
    "\n",
    "y = x * 2\n",
    "while y.data.norm() < 1000:\n",
    "    y = y * 2\n",
    "    \n",
    "print(y)"
   ]
  },
  {
   "cell_type": "markdown",
   "metadata": {},
   "source": [
    "24.计算v = [0.1, 1.0, 0.0001]处的梯度"
   ]
  },
  {
   "cell_type": "code",
   "execution_count": 24,
   "metadata": {},
   "outputs": [
    {
     "name": "stdout",
     "output_type": "stream",
     "text": [
      "tensor([1.0240e+02, 1.0240e+03, 1.0240e-01])\n"
     ]
    }
   ],
   "source": [
    "v = torch.tensor([0.1, 1.0, 0.0001])\n",
    "y.backward(v)\n",
    "\n",
    "print(x.grad)"
   ]
  },
  {
   "cell_type": "markdown",
   "metadata": {},
   "source": [
    "25.关闭梯度功能"
   ]
  },
  {
   "cell_type": "code",
   "execution_count": 25,
   "metadata": {},
   "outputs": [
    {
     "name": "stdout",
     "output_type": "stream",
     "text": [
      "True\n",
      "True\n",
      "False\n"
     ]
    }
   ],
   "source": [
    "print(x.requires_grad)\n",
    "print((x ** 2).requires_grad)\n",
    "\n",
    "with torch.no_grad():\n",
    "    print((x ** 2).requires_grad)"
   ]
  },
  {
   "cell_type": "markdown",
   "metadata": {},
   "source": [
    "# 3 神经网络"
   ]
  },
  {
   "attachments": {
    "20190305161316701.png": {
     "image/png": "[encoded data removed]"
    }
   },
   "cell_type": "markdown",
   "metadata": {},
   "source": [
    "实现LeNet5,结构如下图所示。网络共有七层。![20190305161316701.png](attachment:20190305161316701.png)"
   ]
  },
  {
   "cell_type": "markdown",
   "metadata": {},
   "source": [
    "## 3.1 定义网络"
   ]
  },
  {
   "cell_type": "markdown",
   "metadata": {},
   "source": [
    "26-36题，定义网络的层，并完成self.forward()函数"
   ]
  },
  {
   "cell_type": "code",
   "execution_count": 26,
   "metadata": {},
   "outputs": [
    {
     "name": "stdout",
     "output_type": "stream",
     "text": [
      "Net(\n",
      "  (conv1): Conv2d(3, 6, kernel_size=(5, 5), stride=(1, 1))\n",
      "  (conv2): Conv2d(6, 16, kernel_size=(5, 5), stride=(1, 1))\n",
      "  (fc1): Linear(in_features=400, out_features=120, bias=True)\n",
      "  (fc2): Linear(in_features=120, out_features=84, bias=True)\n",
      "  (fc3): Linear(in_features=84, out_features=10, bias=True)\n",
      ")\n"
     ]
    }
   ],
   "source": [
    "import torch\n",
    "import torch.nn as nn\n",
    "import torch.nn.functional as F\n",
    "\n",
    "class Net(nn.Module):\n",
    "    \n",
    "    def __init__(self):\n",
    "        super(Net, self).__init__() # 继承父类\n",
    "        # 26. 定义第一个卷积层，输入为32x32图像，卷积核大小5x5，卷积核6种，即in_channel = 3, out_channel = 6\n",
    "        self.conv1 = nn.Conv2d(3, 6, 5)\n",
    "        # 27. 定义第二个卷积层，输入为前一层6个特征，卷积核大小5x5，卷积核16种\n",
    "        self.conv2 = nn.Conv2d(6, 16, 5)\n",
    "        # 28. 定义第一个全连接层，如图S4 map是16 * 5 * 5，输出120维\n",
    "        self.fc1 = nn.Linear(16 * 5 * 5, 120)\n",
    "        # 29. 定义第二个全连接层，输入120维，输出84维\n",
    "        self.fc2 = nn.Linear(120, 84)\n",
    "        # 30. 定义第三个全连接层，输入84维，输出10维\n",
    "        self.fc3 = nn.Linear(84, 10)\n",
    "    \n",
    "    def forward(self, x):\n",
    "        # 31. 完成input-S2，卷积 + relu + 2x2下采样\n",
    "        x = F.max_pool2d(F.relu(self.conv1(x)), (2, 2))\n",
    "        # 32. 完成S2-S4，卷积 + relu + 2x2下采样\n",
    "        x = F.max_pool2d(F.relu(self.conv2(x)), 2) # 方形卷积核可以只写一个维度\n",
    "        # 33. 将feature map 转化为一维向量\n",
    "        x = x.view(-1, 16 * 5 * 5)\n",
    "        # 34. fc1 + relu\n",
    "        x = F.relu(self.fc1(x))\n",
    "        # 35. fc2 + relu\n",
    "        x = F.relu(self.fc2(x))\n",
    "        # 36. 使用fc3\n",
    "        x = self.fc3(x)\n",
    "        return x\n",
    "    \n",
    "net = Net() # 实例化\n",
    "print(net)"
   ]
  },
  {
   "cell_type": "markdown",
   "metadata": {},
   "source": [
    "37.打印网络参数"
   ]
  },
  {
   "cell_type": "code",
   "execution_count": 27,
   "metadata": {},
   "outputs": [
    {
     "name": "stdout",
     "output_type": "stream",
     "text": [
      "[Parameter containing:\n",
      "tensor([[[[-7.0279e-02,  5.8074e-04, -7.6926e-02, -1.7142e-02, -9.5373e-03],\n",
      "          [-3.1353e-03,  4.8859e-02, -9.6126e-02,  8.8165e-02,  6.9694e-02],\n",
      "          [-9.4298e-02, -1.4911e-02, -6.5271e-02,  3.6294e-02,  1.1835e-02],\n",
      "          [-1.0064e-01, -1.0313e-01, -8.7575e-04,  9.6789e-02,  8.7879e-02],\n",
      "          [ 1.0794e-01,  9.2261e-02, -2.4558e-02, -4.5801e-03, -2.3399e-03]],\n",
      "\n",
      "         [[-8.7899e-02, -3.0678e-02,  6.5349e-02,  1.4205e-02,  3.9655e-02],\n",
      "          [-7.2775e-02,  7.3139e-02, -6.1082e-02,  4.7713e-02,  8.0265e-02],\n",
      "          [ 5.2944e-02,  7.0686e-02, -3.4288e-02, -1.0087e-02,  5.3718e-02],\n",
      "          [ 3.1554e-02, -5.0929e-02, -9.3689e-02,  7.0038e-02, -3.3929e-03],\n",
      "          [ 2.4694e-02,  2.7503e-02,  1.7869e-02, -7.5116e-02, -5.7274e-02]],\n",
      "\n",
      "         [[ 5.8197e-02, -4.3947e-02,  9.4465e-02, -4.8166e-02,  3.5310e-02],\n",
      "          [ 1.0068e-02,  1.1473e-01, -3.6422e-02,  3.8035e-02,  9.4185e-02],\n",
      "          [-1.0875e-01,  6.0170e-02, -2.9510e-03, -8.0762e-02,  7.7227e-02],\n",
      "          [ 1.1289e-01,  8.4463e-02,  5.6893e-02,  7.4053e-02, -5.4254e-02],\n",
      "          [ 1.0411e-01, -1.0362e-01,  1.0649e-01, -7.6414e-02,  3.7071e-03]]],\n",
      "\n",
      "\n",
      "        [[[-5.8346e-03, -1.6484e-02,  7.2322e-02,  6.3749e-02,  1.1956e-02],\n",
      "          [ 1.0267e-01, -1.5284e-02, -2.3637e-02, -3.8122e-03,  6.4378e-02],\n",
      "          [-9.7667e-02, -3.7622e-02, -4.6245e-04, -1.1299e-01, -6.7368e-02],\n",
      "          [-2.9473e-02, -2.9187e-02,  6.8645e-02,  1.1171e-01,  6.0079e-02],\n",
      "          [-8.2293e-03, -1.0173e-01, -8.6934e-02,  6.4704e-02, -7.7842e-02]],\n",
      "\n",
      "         [[-1.3373e-03,  5.9454e-02, -3.5564e-02, -5.7449e-02,  1.1347e-01],\n",
      "          [ 8.1442e-02,  7.4493e-02,  5.0502e-02, -7.6535e-02, -5.7919e-02],\n",
      "          [ 2.2949e-02,  1.1249e-01,  9.6479e-02, -1.0559e-01, -8.7648e-02],\n",
      "          [ 9.6539e-02, -9.7290e-02,  6.6411e-02,  9.3635e-02,  4.1668e-02],\n",
      "          [ 7.4199e-02,  7.4906e-02,  8.9477e-02, -6.1713e-02,  1.7293e-02]],\n",
      "\n",
      "         [[ 3.9365e-02, -3.6349e-02,  9.8997e-02,  4.9451e-03,  2.8122e-02],\n",
      "          [ 8.9320e-02,  1.3554e-02, -1.3356e-02,  5.5735e-03,  8.4199e-02],\n",
      "          [-3.8148e-02, -4.1181e-02, -8.0608e-02,  7.2546e-02, -4.6848e-02],\n",
      "          [ 2.4019e-03, -3.5589e-02, -7.3004e-02, -6.6961e-02, -4.9681e-02],\n",
      "          [ 1.1146e-01,  2.5306e-02, -3.3671e-03,  9.0850e-02, -3.4837e-02]]],\n",
      "\n",
      "\n",
      "        [[[ 7.9049e-02,  3.5984e-03, -1.1061e-02, -7.0391e-02,  6.0971e-02],\n",
      "          [-8.7408e-02, -1.0742e-01,  8.6997e-03, -5.7539e-02, -6.1984e-02],\n",
      "          [ 3.9854e-02,  3.5732e-02, -1.0240e-01,  6.7241e-02, -4.5398e-02],\n",
      "          [-3.5967e-02,  1.6730e-02, -8.3320e-02, -9.8796e-02,  8.6509e-02],\n",
      "          [ 5.9154e-02,  2.2958e-02, -3.3559e-03, -9.8011e-02,  5.2535e-02]],\n",
      "\n",
      "         [[-6.1056e-02,  7.7993e-03,  6.8767e-02,  1.0412e-01, -1.0822e-01],\n",
      "          [ 5.8099e-02,  5.8753e-02, -7.3183e-02, -5.5330e-02, -6.2044e-02],\n",
      "          [-1.1140e-01, -1.0379e-02, -5.1453e-02, -6.8462e-02,  1.2109e-02],\n",
      "          [ 4.2611e-03, -9.8448e-02,  5.8188e-02, -5.1059e-02, -1.3239e-02],\n",
      "          [-8.5412e-02, -8.5502e-02, -4.9504e-02, -2.0091e-02,  8.5142e-02]],\n",
      "\n",
      "         [[ 7.5267e-02, -4.3405e-02, -5.3938e-03, -1.6569e-02, -2.9180e-02],\n",
      "          [ 1.3000e-02, -9.8769e-02,  3.4655e-02, -6.4950e-03, -7.8811e-02],\n",
      "          [ 9.7021e-02, -2.2469e-02,  8.6747e-02, -5.8648e-03,  5.4284e-02],\n",
      "          [ 4.3395e-02,  1.1312e-01, -1.6957e-02,  5.1714e-02,  7.0422e-02],\n",
      "          [ 3.3816e-02,  1.0450e-01, -1.0891e-01,  3.7836e-02, -7.8889e-02]]],\n",
      "\n",
      "\n",
      "        [[[-6.8315e-02,  2.7162e-02, -4.3393e-02,  6.4234e-02,  5.9545e-02],\n",
      "          [-7.1467e-02,  1.1106e-01,  3.4455e-02,  7.1714e-02, -1.0671e-02],\n",
      "          [ 1.0574e-02,  1.0944e-01,  7.9154e-02, -6.5639e-02, -1.1235e-01],\n",
      "          [ 1.5509e-03, -8.4792e-02,  4.5974e-02,  1.1238e-01, -5.9634e-02],\n",
      "          [ 2.1780e-03,  3.5237e-02,  2.7789e-02,  3.7132e-02,  5.5507e-02]],\n",
      "\n",
      "         [[ 5.8885e-02, -4.3179e-02, -3.0854e-02,  8.1381e-02, -3.3967e-02],\n",
      "          [ 1.0700e-01,  9.6372e-03, -7.2711e-02, -9.8014e-02, -6.2374e-03],\n",
      "          [ 9.7978e-02,  1.0140e-01,  5.1140e-02,  7.8817e-02, -4.6474e-02],\n",
      "          [ 9.8099e-02, -1.0842e-01,  4.4064e-02,  3.6575e-02, -1.0829e-01],\n",
      "          [-4.9216e-02,  2.1449e-02, -1.0077e-01,  5.9832e-02,  3.1894e-02]],\n",
      "\n",
      "         [[ 1.7041e-02,  2.8439e-05,  3.2548e-02,  7.9188e-02,  2.9343e-02],\n",
      "          [ 3.0685e-02, -4.2156e-02, -1.7641e-02,  1.1473e-02, -4.0011e-02],\n",
      "          [-5.2300e-02,  9.9613e-02, -8.6367e-02, -7.7104e-02,  9.1446e-02],\n",
      "          [ 4.4388e-02, -1.0254e-01,  4.6887e-02, -4.5095e-02,  4.7652e-02],\n",
      "          [-7.6552e-02,  2.0012e-02,  9.7930e-02, -3.7284e-02, -1.0603e-01]]],\n",
      "\n",
      "\n",
      "        [[[ 5.1085e-02,  7.8139e-02, -8.0693e-02,  1.0919e-01, -1.3817e-02],\n",
      "          [-8.7385e-02,  7.1252e-02, -2.8637e-02,  4.3791e-02, -9.8783e-02],\n",
      "          [-9.6893e-02, -6.8924e-02, -4.3058e-02, -5.6704e-02, -5.9614e-02],\n",
      "          [-3.4190e-02,  5.8673e-02, -7.2389e-02, -6.7808e-02, -7.1569e-02],\n",
      "          [ 4.7832e-02,  1.0402e-01, -5.9275e-04,  1.1525e-01,  5.9424e-02]],\n",
      "\n",
      "         [[ 1.1043e-01, -4.9660e-02,  3.7482e-02,  2.6755e-02, -8.2956e-02],\n",
      "          [ 5.4485e-02, -5.5073e-02, -2.6368e-02,  5.3264e-03, -1.4353e-02],\n",
      "          [-7.6236e-03,  6.5995e-02,  1.0377e-02,  7.3024e-02,  8.5127e-02],\n",
      "          [-9.3753e-02,  9.5776e-02,  1.1396e-01,  1.5571e-02,  9.6644e-02],\n",
      "          [ 1.0269e-01,  7.3867e-02,  8.8710e-02,  6.6937e-02, -4.2855e-02]],\n",
      "\n",
      "         [[ 1.1449e-01,  9.7327e-02, -5.2063e-02, -1.1395e-02, -4.5795e-02],\n",
      "          [-5.1438e-02,  6.8475e-04, -9.9354e-02, -2.1272e-02, -8.5880e-02],\n",
      "          [-1.3980e-02,  1.1251e-02, -9.4049e-02, -1.0914e-01,  7.6049e-02],\n",
      "          [ 8.5901e-02, -8.2068e-02, -9.5024e-02,  4.1286e-02, -1.8663e-02],\n",
      "          [-9.3976e-02,  1.0921e-02, -5.9494e-02,  2.2604e-02,  9.5908e-02]]],\n",
      "\n",
      "\n",
      "        [[[ 2.9129e-02,  1.1402e-01,  3.1083e-04,  6.1804e-03, -4.6695e-02],\n",
      "          [-4.7438e-02,  7.6730e-02,  7.5749e-02,  7.6188e-02, -1.4164e-02],\n",
      "          [ 1.0249e-01, -2.1786e-02,  7.4221e-02, -8.7326e-02, -1.1511e-01],\n",
      "          [-6.5888e-02, -6.2662e-02,  4.1099e-02,  8.7818e-02,  1.9168e-02],\n",
      "          [-1.0711e-01, -1.6556e-02, -6.3811e-02,  4.2766e-02, -6.8234e-02]],\n",
      "\n",
      "         [[ 1.7659e-02,  2.7714e-02,  1.0068e-01, -9.5568e-02,  1.6107e-03],\n",
      "          [ 1.0626e-02,  1.1143e-01,  3.9187e-02,  7.4975e-02,  1.0155e-01],\n",
      "          [ 5.9896e-02,  1.1266e-01, -7.0330e-02, -6.2942e-02, -8.6843e-02],\n",
      "          [-8.2000e-02, -6.8842e-02,  3.2231e-02, -7.2864e-02,  8.0734e-02],\n",
      "          [ 6.6149e-02,  2.6603e-02, -4.8553e-02, -7.3425e-03,  3.5117e-02]],\n",
      "\n",
      "         [[ 3.0591e-03, -1.1245e-01, -8.5755e-02, -1.0995e-01,  1.0660e-01],\n",
      "          [ 1.0605e-01,  3.1887e-02,  6.7453e-02, -1.1848e-03,  4.8826e-02],\n",
      "          [-4.1790e-02, -4.6821e-02,  4.7384e-02,  8.1091e-02, -9.0903e-02],\n",
      "          [-6.5336e-03, -2.6522e-02, -7.8474e-03, -2.5583e-02, -7.6902e-02],\n",
      "          [ 9.4078e-02, -1.2228e-02,  8.3211e-02, -1.0105e-01, -4.1940e-02]]]],\n",
      "       requires_grad=True), Parameter containing:\n",
      "tensor([-0.0573,  0.0476,  0.0681,  0.1140, -0.0750,  0.0764],\n",
      "       requires_grad=True), Parameter containing:\n",
      "tensor([[[[-0.0696, -0.0202, -0.0352,  0.0377, -0.0562],\n",
      "          [-0.0601, -0.0366, -0.0767, -0.0480,  0.0233],\n",
      "          [-0.0547,  0.0282, -0.0074, -0.0077, -0.0469],\n",
      "          [ 0.0606, -0.0235, -0.0318, -0.0079, -0.0614],\n",
      "          [ 0.0217,  0.0490, -0.0590,  0.0096, -0.0610]],\n",
      "\n",
      "         [[-0.0539,  0.0512,  0.0318,  0.0543,  0.0048],\n",
      "          [-0.0079,  0.0316,  0.0337, -0.0533,  0.0420],\n",
      "          [-0.0130, -0.0480, -0.0797, -0.0695, -0.0093],\n",
      "          [ 0.0521, -0.0701, -0.0007, -0.0643,  0.0004],\n",
      "          [-0.0717,  0.0369, -0.0673, -0.0552, -0.0816]],\n",
      "\n",
      "         [[-0.0170,  0.0241, -0.0355, -0.0396,  0.0505],\n",
      "          [ 0.0376, -0.0797, -0.0687,  0.0723, -0.0255],\n",
      "          [ 0.0425, -0.0051, -0.0372, -0.0317,  0.0703],\n",
      "          [-0.0327, -0.0734,  0.0031, -0.0210,  0.0217],\n",
      "          [ 0.0475,  0.0654,  0.0556, -0.0515, -0.0347]],\n",
      "\n",
      "         [[-0.0285, -0.0093, -0.0099, -0.0274,  0.0180],\n",
      "          [-0.0364,  0.0726, -0.0029, -0.0606, -0.0755],\n",
      "          [-0.0147,  0.0142, -0.0381, -0.0694,  0.0048],\n",
      "          [-0.0098, -0.0647,  0.0384, -0.0498, -0.0662],\n",
      "          [-0.0274, -0.0108,  0.0072,  0.0255, -0.0483]],\n",
      "\n",
      "         [[-0.0450, -0.0754, -0.0090,  0.0574,  0.0503],\n",
      "          [ 0.0047, -0.0615,  0.0190,  0.0574, -0.0355],\n",
      "          [-0.0145, -0.0706,  0.0012, -0.0205, -0.0789],\n",
      "          [ 0.0019,  0.0256, -0.0804, -0.0629, -0.0196],\n",
      "          [-0.0417,  0.0358, -0.0454,  0.0575,  0.0693]],\n",
      "\n",
      "         [[-0.0770, -0.0048, -0.0416,  0.0018,  0.0648],\n",
      "          [ 0.0329,  0.0010,  0.0538,  0.0122, -0.0373],\n",
      "          [-0.0685,  0.0091,  0.0627,  0.0662,  0.0521],\n",
      "          [ 0.0464, -0.0299,  0.0542, -0.0692, -0.0668],\n",
      "          [-0.0383, -0.0607,  0.0564,  0.0174, -0.0320]]],\n",
      "\n",
      "\n",
      "        [[[-0.0298, -0.0049,  0.0142,  0.0161,  0.0761],\n",
      "          [-0.0107,  0.0769, -0.0272, -0.0223,  0.0138],\n",
      "          [-0.0117,  0.0608,  0.0393, -0.0122, -0.0355],\n",
      "          [-0.0234,  0.0203,  0.0079,  0.0474,  0.0034],\n",
      "          [-0.0367,  0.0114,  0.0501, -0.0731,  0.0031]],\n",
      "\n",
      "         [[ 0.0395,  0.0417, -0.0669, -0.0268, -0.0122],\n",
      "          [ 0.0172, -0.0311,  0.0098, -0.0421,  0.0265],\n",
      "          [ 0.0203, -0.0029,  0.0473,  0.0256, -0.0477],\n",
      "          [-0.0766, -0.0393, -0.0693, -0.0615,  0.0722],\n",
      "          [-0.0406, -0.0109, -0.0770, -0.0173, -0.0504]],\n",
      "\n",
      "         [[-0.0539, -0.0334, -0.0356,  0.0120,  0.0666],\n",
      "          [ 0.0602,  0.0112,  0.0547, -0.0158, -0.0739],\n",
      "          [ 0.0126, -0.0142, -0.0684, -0.0507,  0.0206],\n",
      "          [ 0.0265,  0.0561,  0.0668, -0.0631, -0.0040],\n",
      "          [-0.0775,  0.0190, -0.0149, -0.0014,  0.0534]],\n",
      "\n",
      "         [[ 0.0631,  0.0633, -0.0401,  0.0375,  0.0629],\n",
      "          [-0.0049, -0.0602,  0.0295,  0.0382,  0.0259],\n",
      "          [-0.0190, -0.0747,  0.0286,  0.0719,  0.0645],\n",
      "          [ 0.0532, -0.0318,  0.0022, -0.0209,  0.0388],\n",
      "          [-0.0137, -0.0296, -0.0662, -0.0190, -0.0343]],\n",
      "\n",
      "         [[-0.0134,  0.0654, -0.0414, -0.0137, -0.0258],\n",
      "          [ 0.0229,  0.0657,  0.0701, -0.0194, -0.0716],\n",
      "          [ 0.0492, -0.0438, -0.0265,  0.0025,  0.0397],\n",
      "          [ 0.0636, -0.0156,  0.0126, -0.0745,  0.0797],\n",
      "          [-0.0733,  0.0249, -0.0792,  0.0815, -0.0529]],\n",
      "\n",
      "         [[-0.0375, -0.0798, -0.0815, -0.0090,  0.0616],\n",
      "          [-0.0700,  0.0315, -0.0295,  0.0114, -0.0682],\n",
      "          [-0.0359, -0.0631,  0.0345,  0.0446, -0.0500],\n",
      "          [-0.0198,  0.0069,  0.0480,  0.0076,  0.0038],\n",
      "          [-0.0327, -0.0016,  0.0003,  0.0010, -0.0306]]],\n",
      "\n",
      "\n",
      "        [[[-0.0710,  0.0627,  0.0800, -0.0018, -0.0508],\n",
      "          [ 0.0605, -0.0212,  0.0447, -0.0551,  0.0733],\n",
      "          [-0.0583,  0.0414,  0.0374,  0.0350,  0.0043],\n",
      "          [ 0.0407, -0.0654, -0.0515,  0.0490,  0.0174],\n",
      "          [-0.0396, -0.0751,  0.0097,  0.0198, -0.0160]],\n",
      "\n",
      "         [[ 0.0098,  0.0788, -0.0108,  0.0548,  0.0271],\n",
      "          [-0.0054, -0.0426,  0.0264,  0.0716,  0.0541],\n",
      "          [ 0.0791,  0.0751, -0.0081,  0.0126, -0.0028],\n",
      "          [ 0.0390,  0.0732, -0.0544, -0.0294,  0.0653],\n",
      "          [ 0.0381, -0.0301, -0.0572, -0.0539,  0.0562]],\n",
      "\n",
      "         [[-0.0287, -0.0227,  0.0397, -0.0429,  0.0663],\n",
      "          [-0.0039, -0.0197,  0.0379, -0.0538, -0.0203],\n",
      "          [-0.0679, -0.0368,  0.0070,  0.0610, -0.0231],\n",
      "          [-0.0691,  0.0749, -0.0385, -0.0174,  0.0549],\n",
      "          [-0.0552, -0.0003,  0.0599,  0.0717,  0.0795]],\n",
      "\n",
      "         [[-0.0516, -0.0799, -0.0088,  0.0772, -0.0270],\n",
      "          [ 0.0491, -0.0519,  0.0509,  0.0737,  0.0021],\n",
      "          [-0.0747,  0.0105, -0.0398,  0.0367, -0.0173],\n",
      "          [ 0.0273,  0.0772,  0.0172,  0.0597,  0.0797],\n",
      "          [ 0.0729,  0.0171, -0.0405,  0.0030, -0.0814]],\n",
      "\n",
      "         [[-0.0792, -0.0010,  0.0673,  0.0083,  0.0438],\n",
      "          [-0.0433,  0.0098, -0.0188,  0.0113, -0.0665],\n",
      "          [ 0.0716,  0.0231,  0.0771, -0.0033,  0.0741],\n",
      "          [ 0.0656, -0.0604, -0.0629,  0.0185,  0.0393],\n",
      "          [ 0.0744, -0.0478,  0.0561,  0.0042, -0.0053]],\n",
      "\n",
      "         [[-0.0388, -0.0551,  0.0139, -0.0306,  0.0626],\n",
      "          [-0.0336,  0.0740,  0.0741,  0.0399, -0.0471],\n",
      "          [-0.0245,  0.0155, -0.0587, -0.0036,  0.0204],\n",
      "          [ 0.0319,  0.0447,  0.0235,  0.0738,  0.0446],\n",
      "          [-0.0182, -0.0629, -0.0252, -0.0394, -0.0630]]],\n",
      "\n",
      "\n",
      "        ...,\n",
      "\n",
      "\n",
      "        [[[ 0.0220, -0.0788, -0.0387,  0.0772, -0.0324],\n",
      "          [ 0.0603, -0.0277,  0.0078, -0.0332,  0.0581],\n",
      "          [-0.0103,  0.0306,  0.0146, -0.0341,  0.0225],\n",
      "          [-0.0518,  0.0787,  0.0346,  0.0095,  0.0803],\n",
      "          [ 0.0645, -0.0626,  0.0709,  0.0056, -0.0673]],\n",
      "\n",
      "         [[-0.0217, -0.0658, -0.0577, -0.0808, -0.0350],\n",
      "          [-0.0312, -0.0486, -0.0018, -0.0477,  0.0573],\n",
      "          [ 0.0634,  0.0035, -0.0203,  0.0120, -0.0661],\n",
      "          [-0.0435,  0.0470,  0.0053, -0.0167, -0.0223],\n",
      "          [-0.0549, -0.0449,  0.0300,  0.0158, -0.0366]],\n",
      "\n",
      "         [[-0.0096,  0.0146,  0.0054,  0.0129,  0.0413],\n",
      "          [ 0.0718, -0.0082, -0.0111, -0.0710, -0.0066],\n",
      "          [ 0.0019,  0.0509, -0.0059, -0.0295,  0.0421],\n",
      "          [ 0.0231, -0.0151,  0.0041,  0.0632,  0.0205],\n",
      "          [ 0.0613, -0.0069,  0.0122,  0.0157, -0.0694]],\n",
      "\n",
      "         [[ 0.0435, -0.0275,  0.0324, -0.0592, -0.0727],\n",
      "          [-0.0573, -0.0188, -0.0162, -0.0371,  0.0623],\n",
      "          [-0.0475,  0.0183, -0.0032,  0.0107,  0.0230],\n",
      "          [-0.0498, -0.0434,  0.0494, -0.0082, -0.0762],\n",
      "          [-0.0785,  0.0577, -0.0107,  0.0576,  0.0185]],\n",
      "\n",
      "         [[-0.0771, -0.0114, -0.0620,  0.0326, -0.0377],\n",
      "          [-0.0766,  0.0104, -0.0607,  0.0225, -0.0103],\n",
      "          [ 0.0047,  0.0295,  0.0672, -0.0204,  0.0125],\n",
      "          [-0.0550,  0.0319, -0.0532,  0.0673, -0.0409],\n",
      "          [ 0.0392,  0.0241,  0.0282, -0.0422, -0.0127]],\n",
      "\n",
      "         [[ 0.0545, -0.0793,  0.0774, -0.0558,  0.0081],\n",
      "          [-0.0529,  0.0711,  0.0014, -0.0729,  0.0753],\n",
      "          [-0.0345,  0.0702, -0.0796, -0.0282,  0.0582],\n",
      "          [-0.0194, -0.0518, -0.0080, -0.0351, -0.0308],\n",
      "          [ 0.0547, -0.0580,  0.0315,  0.0423, -0.0460]]],\n",
      "\n",
      "\n",
      "        [[[ 0.0240, -0.0304, -0.0050,  0.0203, -0.0615],\n",
      "          [ 0.0387, -0.0362, -0.0696,  0.0281,  0.0326],\n",
      "          [-0.0259, -0.0717, -0.0408, -0.0155, -0.0022],\n",
      "          [ 0.0365, -0.0741, -0.0482, -0.0321,  0.0346],\n",
      "          [ 0.0801,  0.0173, -0.0010,  0.0149,  0.0186]],\n",
      "\n",
      "         [[-0.0338,  0.0507, -0.0670,  0.0556,  0.0102],\n",
      "          [-0.0559,  0.0021,  0.0691, -0.0328, -0.0456],\n",
      "          [ 0.0506,  0.0169,  0.0730,  0.0761,  0.0659],\n",
      "          [-0.0134, -0.0669, -0.0091, -0.0112,  0.0630],\n",
      "          [-0.0588, -0.0344,  0.0785,  0.0095, -0.0095]],\n",
      "\n",
      "         [[-0.0558, -0.0011, -0.0602, -0.0806, -0.0689],\n",
      "          [-0.0468, -0.0629,  0.0281,  0.0669, -0.0741],\n",
      "          [-0.0596, -0.0130,  0.0093,  0.0448,  0.0381],\n",
      "          [ 0.0641,  0.0624,  0.0514,  0.0344,  0.0620],\n",
      "          [ 0.0412, -0.0031, -0.0030,  0.0262,  0.0669]],\n",
      "\n",
      "         [[ 0.0157, -0.0366, -0.0069, -0.0310, -0.0174],\n",
      "          [-0.0140,  0.0364, -0.0022, -0.0577,  0.0608],\n",
      "          [-0.0651, -0.0782,  0.0416, -0.0252, -0.0048],\n",
      "          [-0.0057, -0.0281, -0.0278, -0.0106,  0.0025],\n",
      "          [ 0.0548,  0.0477,  0.0257,  0.0026,  0.0716]],\n",
      "\n",
      "         [[-0.0119,  0.0264, -0.0417, -0.0588,  0.0738],\n",
      "          [-0.0448,  0.0180,  0.0449,  0.0265,  0.0302],\n",
      "          [-0.0219, -0.0643,  0.0379,  0.0162,  0.0017],\n",
      "          [-0.0605,  0.0673,  0.0666, -0.0214,  0.0166],\n",
      "          [-0.0322,  0.0673, -0.0111, -0.0537,  0.0221]],\n",
      "\n",
      "         [[-0.0288, -0.0277,  0.0326, -0.0241, -0.0372],\n",
      "          [-0.0121,  0.0337,  0.0095, -0.0013, -0.0186],\n",
      "          [-0.0220, -0.0650, -0.0727,  0.0728,  0.0237],\n",
      "          [ 0.0395,  0.0127,  0.0002,  0.0518,  0.0730],\n",
      "          [-0.0222,  0.0465,  0.0177, -0.0377, -0.0083]]],\n",
      "\n",
      "\n",
      "        [[[-0.0152,  0.0467, -0.0691,  0.0094, -0.0169],\n",
      "          [ 0.0183, -0.0173,  0.0708,  0.0015,  0.0275],\n",
      "          [ 0.0721, -0.0415, -0.0046, -0.0374,  0.0545],\n",
      "          [ 0.0058,  0.0145, -0.0630, -0.0158, -0.0689],\n",
      "          [-0.0485,  0.0313, -0.0708, -0.0634, -0.0667]],\n",
      "\n",
      "         [[ 0.0733, -0.0143, -0.0755,  0.0008,  0.0267],\n",
      "          [ 0.0178,  0.0796,  0.0267,  0.0796,  0.0376],\n",
      "          [ 0.0072, -0.0759,  0.0493,  0.0620,  0.0234],\n",
      "          [-0.0392,  0.0458, -0.0598,  0.0649, -0.0709],\n",
      "          [ 0.0506,  0.0694,  0.0188, -0.0589, -0.0246]],\n",
      "\n",
      "         [[ 0.0693,  0.0815,  0.0806, -0.0253,  0.0111],\n",
      "          [ 0.0489, -0.0166, -0.0055,  0.0731,  0.0506],\n",
      "          [ 0.0489, -0.0632, -0.0075, -0.0643,  0.0647],\n",
      "          [ 0.0441, -0.0800, -0.0624, -0.0177,  0.0714],\n",
      "          [ 0.0054,  0.0028,  0.0079,  0.0566, -0.0066]],\n",
      "\n",
      "         [[-0.0471, -0.0430, -0.0360, -0.0545,  0.0421],\n",
      "          [ 0.0483,  0.0483,  0.0513,  0.0577, -0.0180],\n",
      "          [ 0.0514,  0.0035, -0.0334,  0.0373,  0.0052],\n",
      "          [-0.0269, -0.0512,  0.0482,  0.0031,  0.0143],\n",
      "          [-0.0220,  0.0143, -0.0739,  0.0454,  0.0550]],\n",
      "\n",
      "         [[ 0.0692, -0.0806,  0.0378,  0.0516, -0.0223],\n",
      "          [-0.0065, -0.0693, -0.0701, -0.0039, -0.0553],\n",
      "          [-0.0350, -0.0577, -0.0534, -0.0642,  0.0690],\n",
      "          [-0.0283,  0.0396, -0.0462,  0.0246, -0.0753],\n",
      "          [ 0.0027,  0.0521, -0.0698,  0.0467, -0.0297]],\n",
      "\n",
      "         [[-0.0378, -0.0422,  0.0066, -0.0063,  0.0468],\n",
      "          [-0.0686,  0.0812,  0.0770,  0.0575,  0.0171],\n",
      "          [-0.0657,  0.0359, -0.0669,  0.0046, -0.0649],\n",
      "          [ 0.0093,  0.0072,  0.0268, -0.0512,  0.0555],\n",
      "          [-0.0735,  0.0037,  0.0083, -0.0463, -0.0356]]]], requires_grad=True), Parameter containing:\n",
      "tensor([ 0.0359, -0.0662, -0.0684, -0.0447, -0.0310,  0.0554,  0.0074,  0.0412,\n",
      "        -0.0748,  0.0438, -0.0095,  0.0643,  0.0398,  0.0694, -0.0679,  0.0350],\n",
      "       requires_grad=True), Parameter containing:\n",
      "tensor([[ 1.3551e-02,  8.5153e-05,  2.9386e-02,  ..., -1.3913e-02,\n",
      "          1.0757e-02,  1.6911e-02],\n",
      "        [ 4.2433e-02, -1.2651e-02,  3.5645e-02,  ...,  3.8786e-02,\n",
      "         -3.4717e-02, -2.8926e-02],\n",
      "        [-2.5079e-03,  9.1883e-03,  1.9120e-02,  ..., -1.2300e-02,\n",
      "          1.2969e-02,  2.3120e-04],\n",
      "        ...,\n",
      "        [-2.4435e-02,  2.9523e-02, -2.7232e-02,  ..., -9.0868e-03,\n",
      "         -2.8160e-02,  3.1908e-02],\n",
      "        [-4.9162e-02, -3.8180e-03, -2.1346e-02,  ..., -1.4609e-02,\n",
      "         -7.0062e-03, -3.5931e-02],\n",
      "        [-2.6130e-02, -2.3989e-02, -3.0636e-02,  ...,  4.2607e-02,\n",
      "         -3.1629e-02,  2.2221e-02]], requires_grad=True), Parameter containing:\n",
      "tensor([-0.0346,  0.0262,  0.0387,  0.0433,  0.0471, -0.0142, -0.0087,  0.0497,\n",
      "         0.0457,  0.0367,  0.0474, -0.0272, -0.0205,  0.0102,  0.0204, -0.0204,\n",
      "         0.0224, -0.0363,  0.0019,  0.0180,  0.0170,  0.0358, -0.0333,  0.0395,\n",
      "        -0.0307,  0.0135,  0.0460, -0.0291,  0.0318, -0.0191,  0.0174,  0.0342,\n",
      "        -0.0235, -0.0082, -0.0467,  0.0117,  0.0175,  0.0335,  0.0342, -0.0210,\n",
      "        -0.0220, -0.0025, -0.0135, -0.0360,  0.0387, -0.0362, -0.0314, -0.0356,\n",
      "         0.0434, -0.0131,  0.0006, -0.0459,  0.0417, -0.0105,  0.0073, -0.0071,\n",
      "        -0.0463, -0.0082,  0.0113,  0.0305,  0.0467, -0.0414, -0.0314, -0.0428,\n",
      "        -0.0071, -0.0358,  0.0238,  0.0477,  0.0333,  0.0169, -0.0024,  0.0026,\n",
      "        -0.0206, -0.0060,  0.0465,  0.0039,  0.0207, -0.0450, -0.0434,  0.0084,\n",
      "         0.0163,  0.0083,  0.0007,  0.0190, -0.0235, -0.0206, -0.0363,  0.0013,\n",
      "         0.0376,  0.0180,  0.0187, -0.0361, -0.0396,  0.0376, -0.0055,  0.0050,\n",
      "         0.0186, -0.0305, -0.0081,  0.0440,  0.0371, -0.0341,  0.0401,  0.0385,\n",
      "        -0.0096, -0.0233,  0.0313,  0.0091,  0.0150, -0.0435,  0.0079,  0.0205,\n",
      "         0.0413,  0.0132,  0.0493, -0.0487, -0.0413, -0.0188, -0.0249, -0.0027],\n",
      "       requires_grad=True), Parameter containing:\n",
      "tensor([[ 0.0490,  0.0300,  0.0135,  ...,  0.0843, -0.0887,  0.0577],\n",
      "        [-0.0523, -0.0173,  0.0275,  ...,  0.0276, -0.0423,  0.0483],\n",
      "        [ 0.0169, -0.0739,  0.0152,  ..., -0.0186,  0.0433,  0.0853],\n",
      "        ...,\n",
      "        [-0.0858,  0.0559,  0.0249,  ...,  0.0549,  0.0753,  0.0201],\n",
      "        [-0.0553, -0.0148,  0.0481,  ...,  0.0826,  0.0541,  0.0338],\n",
      "        [-0.0495, -0.0790, -0.0709,  ...,  0.0886,  0.0506,  0.0357]],\n",
      "       requires_grad=True), Parameter containing:\n",
      "tensor([ 0.0405, -0.0426, -0.0119,  0.0401, -0.0074, -0.0477, -0.0529, -0.0103,\n",
      "         0.0637, -0.0781, -0.0396,  0.0523,  0.0145,  0.0578, -0.0063,  0.0685,\n",
      "         0.0909, -0.0780, -0.0747, -0.0790,  0.0469, -0.0647,  0.0774,  0.0857,\n",
      "        -0.0396, -0.0877, -0.0409,  0.0130,  0.0722, -0.0453,  0.0027, -0.0202,\n",
      "         0.0634,  0.0531, -0.0467,  0.0824, -0.0339,  0.0140, -0.0310,  0.0130,\n",
      "        -0.0799,  0.0576, -0.0134,  0.0270,  0.0787, -0.0360, -0.0023,  0.0596,\n",
      "        -0.0800, -0.0443, -0.0229, -0.0667,  0.0082, -0.0313,  0.0050, -0.0119,\n",
      "        -0.0888,  0.0227, -0.0014, -0.0830, -0.0496,  0.0015, -0.0319, -0.0194,\n",
      "        -0.0431, -0.0603, -0.0652,  0.0464, -0.0184,  0.0773, -0.0429,  0.0156,\n",
      "         0.0636, -0.0354,  0.0594,  0.0371,  0.0301, -0.0720,  0.0350, -0.0907,\n",
      "         0.0382, -0.0295,  0.0874,  0.0580], requires_grad=True), Parameter containing:\n",
      "tensor([[ 0.0266, -0.0455,  0.0409, -0.1008,  0.0463,  0.0864,  0.0659, -0.0154,\n",
      "          0.1054, -0.0093, -0.0047,  0.0869, -0.0486, -0.0117,  0.0344, -0.0591,\n",
      "         -0.0429, -0.0869,  0.0033, -0.0711,  0.1016, -0.0237,  0.0075, -0.0597,\n",
      "          0.0383, -0.0986,  0.0138, -0.0599,  0.1060,  0.0772,  0.0878,  0.0992,\n",
      "          0.0818, -0.0664,  0.1006, -0.0187,  0.0841, -0.0864,  0.0454,  0.0418,\n",
      "         -0.0516,  0.0968,  0.0275, -0.0284, -0.0096, -0.1018,  0.0789,  0.0851,\n",
      "         -0.0998, -0.0758, -0.0995,  0.0972,  0.0937, -0.0150, -0.0903,  0.0106,\n",
      "          0.0887, -0.0247, -0.1087, -0.0592,  0.0709,  0.1038, -0.0156, -0.1025,\n",
      "         -0.0645,  0.0245,  0.1058, -0.0594, -0.0262,  0.0747, -0.0901, -0.0409,\n",
      "          0.1039, -0.0740,  0.0227, -0.0550,  0.0329, -0.0184, -0.0503, -0.0351,\n",
      "          0.0976, -0.0016,  0.0426, -0.0574],\n",
      "        [-0.0196,  0.0087,  0.1027,  0.0260,  0.1023, -0.1015,  0.0343,  0.0757,\n",
      "         -0.0281,  0.0206,  0.0835, -0.0158,  0.0073,  0.0921, -0.0461, -0.0421,\n",
      "          0.0886,  0.0137, -0.0200,  0.1064,  0.0710,  0.1083,  0.0220, -0.0667,\n",
      "         -0.0276,  0.0863,  0.1074, -0.0379,  0.0812,  0.0008, -0.0268, -0.0685,\n",
      "          0.0834, -0.0555,  0.0973, -0.0255, -0.0592,  0.0652, -0.0107,  0.0840,\n",
      "         -0.0145, -0.0892, -0.0061,  0.0773,  0.0153, -0.0322,  0.1028, -0.0445,\n",
      "          0.0460,  0.0404,  0.0983,  0.0463,  0.0020, -0.0476, -0.0551,  0.0913,\n",
      "          0.0534,  0.0866,  0.0043, -0.0999,  0.0156,  0.0895, -0.0193, -0.1006,\n",
      "          0.0704, -0.0890,  0.0743, -0.1089,  0.0726,  0.0187, -0.0515,  0.0751,\n",
      "         -0.0518, -0.0704,  0.0541,  0.0807, -0.0724,  0.0217,  0.0064,  0.0894,\n",
      "          0.0291, -0.1047, -0.0685,  0.0352],\n",
      "        [ 0.0070,  0.0378, -0.1049, -0.0461,  0.0764,  0.0229, -0.0038, -0.0004,\n",
      "          0.0488,  0.0557, -0.0072, -0.1006,  0.0733, -0.0020, -0.0383,  0.0273,\n",
      "         -0.0621,  0.0886,  0.0036,  0.0314,  0.0652,  0.0845, -0.1070, -0.0473,\n",
      "         -0.0315,  0.0209,  0.0055,  0.0973, -0.1022, -0.0515,  0.0068,  0.0796,\n",
      "          0.0596,  0.0027,  0.0617, -0.0739, -0.0290, -0.0678, -0.0953, -0.1090,\n",
      "          0.0459,  0.0326,  0.0532,  0.0662,  0.0904, -0.0584,  0.0597,  0.0685,\n",
      "         -0.0728, -0.0348,  0.0626, -0.0280, -0.0843,  0.0743,  0.0452,  0.0227,\n",
      "         -0.0611,  0.1066,  0.0773, -0.0627, -0.0543, -0.0297,  0.0815, -0.0096,\n",
      "         -0.0324,  0.0110, -0.0195, -0.0071,  0.0687, -0.0952,  0.0963, -0.0092,\n",
      "          0.0618, -0.0629,  0.0077,  0.0618,  0.0295, -0.0087,  0.0636,  0.0626,\n",
      "          0.0644,  0.0466, -0.0201,  0.0250],\n",
      "        [ 0.0311, -0.0375, -0.0153,  0.0722, -0.0631,  0.0248, -0.0957,  0.0072,\n",
      "         -0.0137,  0.0380,  0.0029, -0.0036,  0.0450, -0.0387, -0.0083, -0.0036,\n",
      "          0.0823,  0.0719, -0.0566, -0.0723,  0.0420,  0.0983,  0.0728, -0.0480,\n",
      "          0.1042, -0.0005,  0.0739, -0.0282,  0.0551, -0.0540, -0.0693,  0.0128,\n",
      "          0.0263, -0.0412,  0.0761, -0.0442,  0.0344,  0.0232, -0.0932, -0.0734,\n",
      "         -0.0018, -0.0027, -0.0646,  0.0146, -0.0096,  0.0873,  0.0070,  0.0693,\n",
      "         -0.1042, -0.0170, -0.0286,  0.0845, -0.0716, -0.0251, -0.0356,  0.0029,\n",
      "          0.0417,  0.0973, -0.0840,  0.0051, -0.0071, -0.0513, -0.0744, -0.0522,\n",
      "          0.0543,  0.0647,  0.0650,  0.0495, -0.0730,  0.0143,  0.0381, -0.0427,\n",
      "          0.0138, -0.0919, -0.0131, -0.0148, -0.0086, -0.0606, -0.0853, -0.0549,\n",
      "          0.0356, -0.1034, -0.0684, -0.0400],\n",
      "        [-0.0306, -0.0928,  0.0930, -0.0989,  0.0419,  0.0712, -0.0286,  0.0408,\n",
      "         -0.0921,  0.0961, -0.0490, -0.0329,  0.0839,  0.0600, -0.0877,  0.0788,\n",
      "         -0.0458, -0.0879, -0.0019, -0.0612,  0.0598,  0.0286,  0.1017, -0.0678,\n",
      "          0.0079, -0.0743,  0.0179,  0.1059,  0.0425, -0.0153, -0.0706,  0.0594,\n",
      "         -0.0198,  0.0248, -0.0771,  0.1003,  0.0639,  0.0398,  0.0169, -0.0284,\n",
      "          0.0172, -0.0626,  0.0190, -0.0498, -0.0332, -0.0795, -0.1020, -0.0314,\n",
      "          0.0854,  0.0838, -0.0988, -0.0269, -0.0861,  0.0763,  0.0294, -0.0147,\n",
      "         -0.0006,  0.0135, -0.0711, -0.0303,  0.0173, -0.0436, -0.0369,  0.1066,\n",
      "          0.0078, -0.0330,  0.0284, -0.0463, -0.0805, -0.0325, -0.0761, -0.0963,\n",
      "          0.1047, -0.0203,  0.0233, -0.0008, -0.0318,  0.0913, -0.0834,  0.0725,\n",
      "          0.0192,  0.0028, -0.0199, -0.0485],\n",
      "        [-0.0139,  0.0219,  0.0428,  0.0599, -0.0124, -0.0796,  0.0540, -0.1075,\n",
      "          0.0461,  0.0307, -0.0564,  0.0804, -0.0550, -0.0943, -0.0329, -0.0353,\n",
      "          0.0130,  0.0202, -0.0961, -0.0964,  0.0978,  0.0749,  0.0488, -0.0465,\n",
      "         -0.0920,  0.0600,  0.0327,  0.0424, -0.0427,  0.0158,  0.0463,  0.0098,\n",
      "         -0.0104, -0.0531,  0.0310,  0.0622,  0.0749,  0.0745,  0.0230,  0.0229,\n",
      "         -0.1008,  0.0929,  0.1089, -0.0862, -0.0383,  0.0601,  0.1090,  0.0850,\n",
      "         -0.0096,  0.0671, -0.0513, -0.1007, -0.0517, -0.0081,  0.0143, -0.0743,\n",
      "          0.0547, -0.0407, -0.0305, -0.0826, -0.0385, -0.0870,  0.0765, -0.0741,\n",
      "          0.0938, -0.1023,  0.0385,  0.0590,  0.0770,  0.0040, -0.0415, -0.0519,\n",
      "          0.0784, -0.1011, -0.0382,  0.0712,  0.0359, -0.0370,  0.0646, -0.0440,\n",
      "         -0.0605,  0.0446, -0.0020, -0.0261],\n",
      "        [ 0.0266,  0.0713,  0.0857, -0.0893,  0.0168,  0.1011, -0.0027,  0.0720,\n",
      "          0.0127, -0.0613,  0.0127,  0.1021, -0.0700,  0.0509, -0.0515,  0.0563,\n",
      "          0.0164,  0.0267,  0.1052,  0.0393,  0.0175,  0.0220, -0.1045,  0.0343,\n",
      "          0.1015, -0.0682,  0.1008, -0.1068,  0.0511, -0.0139, -0.0026,  0.0827,\n",
      "         -0.0591, -0.0882,  0.0538, -0.0406, -0.0184,  0.0309,  0.0350,  0.0392,\n",
      "          0.1089,  0.0011,  0.1001, -0.0873, -0.0303, -0.0665,  0.0043,  0.0302,\n",
      "          0.0286, -0.0667,  0.0482,  0.0847,  0.0896, -0.0170, -0.0365, -0.0574,\n",
      "         -0.0243,  0.0477, -0.0115, -0.0650, -0.0521, -0.0359,  0.0963, -0.0865,\n",
      "          0.0345, -0.0196,  0.0596,  0.0988,  0.1072,  0.0996,  0.0312,  0.0206,\n",
      "          0.0639,  0.0664, -0.0723,  0.0864, -0.0739, -0.0253, -0.0539, -0.0224,\n",
      "          0.0323,  0.0699,  0.0382, -0.0673],\n",
      "        [-0.0433, -0.0506, -0.1062, -0.0128, -0.0309, -0.0180, -0.0985,  0.0839,\n",
      "         -0.0950,  0.0418, -0.1085, -0.0283, -0.0367, -0.0434, -0.0531,  0.0042,\n",
      "         -0.0358, -0.0544, -0.0699,  0.0689,  0.0002, -0.0696,  0.0627, -0.0301,\n",
      "         -0.0481,  0.0524,  0.0554,  0.1001,  0.0207,  0.0217,  0.0168,  0.0287,\n",
      "          0.0651, -0.0933,  0.0983,  0.1043,  0.0268,  0.0604, -0.0904,  0.0585,\n",
      "          0.0877, -0.0048,  0.0724, -0.0389, -0.0794,  0.0873, -0.0992,  0.0960,\n",
      "          0.0789, -0.1013, -0.0853, -0.0542,  0.0664, -0.0314,  0.0137,  0.0717,\n",
      "          0.0486,  0.0886, -0.0535, -0.0463, -0.0509, -0.1035, -0.0344,  0.0713,\n",
      "          0.0667,  0.0026,  0.0560, -0.1033, -0.0672,  0.0628,  0.0218,  0.0298,\n",
      "          0.0987, -0.0601, -0.0792,  0.0485, -0.0466, -0.0936, -0.0759, -0.0130,\n",
      "          0.0815,  0.0739,  0.1009,  0.0875],\n",
      "        [ 0.0189, -0.0197,  0.0729,  0.0021, -0.0267,  0.1047,  0.0126, -0.1039,\n",
      "         -0.0014,  0.0494, -0.0553, -0.0372, -0.0905, -0.0377, -0.0998,  0.0778,\n",
      "         -0.0767,  0.0190,  0.0008,  0.0773,  0.0999, -0.0617, -0.0105,  0.1053,\n",
      "         -0.0956, -0.0718, -0.0530,  0.0499,  0.0347,  0.0716,  0.0802, -0.0059,\n",
      "         -0.0348, -0.0445,  0.0408, -0.0780,  0.0493,  0.0237,  0.0317, -0.0368,\n",
      "          0.0361,  0.0807, -0.1010, -0.0316,  0.0122, -0.0273,  0.0363,  0.0017,\n",
      "         -0.0807, -0.0688, -0.1073, -0.0083,  0.0548,  0.0049,  0.0133, -0.0051,\n",
      "          0.0882, -0.0692, -0.0668, -0.0184, -0.0291,  0.0152, -0.0197,  0.0315,\n",
      "         -0.0074, -0.0880,  0.0124,  0.0923, -0.0008,  0.0414, -0.0329, -0.0322,\n",
      "          0.0745,  0.0671,  0.0261,  0.0711, -0.0981, -0.1073, -0.0595,  0.0387,\n",
      "         -0.0113, -0.0940, -0.0766,  0.1042],\n",
      "        [ 0.0812, -0.0860,  0.0131, -0.0159,  0.0441, -0.0479,  0.0876,  0.0488,\n",
      "         -0.0891,  0.0415,  0.0246, -0.0323, -0.0570,  0.0777, -0.0960, -0.0006,\n",
      "         -0.0249, -0.0965, -0.0655, -0.0669,  0.0320, -0.0062,  0.0198,  0.0017,\n",
      "         -0.0490,  0.0357,  0.0402, -0.0327, -0.0987, -0.0401, -0.0353,  0.0496,\n",
      "         -0.0855,  0.0975, -0.0680, -0.0762,  0.0270, -0.0446, -0.0337, -0.1035,\n",
      "         -0.1036,  0.0755, -0.0199, -0.0593,  0.0015,  0.0445, -0.0012, -0.0763,\n",
      "         -0.0828, -0.0651, -0.0525, -0.1029, -0.0250,  0.0721, -0.0566,  0.0633,\n",
      "          0.0452, -0.0636, -0.0181, -0.0832,  0.0684,  0.0279,  0.0513,  0.0956,\n",
      "         -0.0868,  0.0941,  0.0262, -0.0662, -0.0049, -0.0365,  0.0152, -0.0181,\n",
      "          0.0802, -0.0215,  0.0116, -0.0870, -0.0239, -0.0916,  0.0479,  0.0578,\n",
      "          0.0194,  0.0825,  0.1050, -0.1003]], requires_grad=True), Parameter containing:\n",
      "tensor([-0.0028,  0.1090, -0.0147,  0.0967,  0.0848, -0.0950,  0.0469,  0.0898,\n"
     ]
    },
    {
     "name": "stdout",
     "output_type": "stream",
     "text": [
      "        -0.0933,  0.0315], requires_grad=True)]\n",
      "10\n"
     ]
    }
   ],
   "source": [
    "params = list(net.parameters())\n",
    "print(params)\n",
    "print(len(params))"
   ]
  },
  {
   "cell_type": "markdown",
   "metadata": {},
   "source": [
    "38.打印某一层参数的形状"
   ]
  },
  {
   "cell_type": "code",
   "execution_count": 28,
   "metadata": {},
   "outputs": [
    {
     "name": "stdout",
     "output_type": "stream",
     "text": [
      "torch.Size([6, 3, 5, 5])\n"
     ]
    }
   ],
   "source": [
    "print(params[0].size())"
   ]
  },
  {
   "cell_type": "markdown",
   "metadata": {},
   "source": [
    "39.随机输入一个向量，查看网络前向传播的输出"
   ]
  },
  {
   "cell_type": "code",
   "execution_count": 29,
   "metadata": {},
   "outputs": [
    {
     "name": "stdout",
     "output_type": "stream",
     "text": [
      "tensor([[ 0.0574,  0.1385, -0.0261,  0.1201,  0.0280, -0.0748,  0.0567,  0.0912,\n",
      "         -0.0514, -0.0293]], grad_fn=<AddmmBackward>)\n"
     ]
    }
   ],
   "source": [
    "input = torch.randn((1, 3, 32, 32)) # 由于第一层权重 6*3*5*5，所以我们要输入一个四维的张量\n",
    "out = net(input)\n",
    "print(out)"
   ]
  },
  {
   "cell_type": "markdown",
   "metadata": {},
   "source": [
    "40.将梯度初始化"
   ]
  },
  {
   "cell_type": "code",
   "execution_count": 30,
   "metadata": {},
   "outputs": [],
   "source": [
    "net.zero_grad()"
   ]
  },
  {
   "cell_type": "markdown",
   "metadata": {},
   "source": [
    "41.随机生成一个梯度反向传播"
   ]
  },
  {
   "cell_type": "code",
   "execution_count": 31,
   "metadata": {},
   "outputs": [],
   "source": [
    "out.backward(torch.randn(1, 10))"
   ]
  },
  {
   "cell_type": "markdown",
   "metadata": {},
   "source": [
    "## 3.2 损失函数"
   ]
  },
  {
   "cell_type": "markdown",
   "metadata": {},
   "source": [
    "42.用自带的MSELoss()定义损失函数"
   ]
  },
  {
   "cell_type": "code",
   "execution_count": 32,
   "metadata": {},
   "outputs": [],
   "source": [
    "criterion = nn.MSELoss()"
   ]
  },
  {
   "cell_type": "markdown",
   "metadata": {},
   "source": [
    "43.随机一个真值，并用随机的输入计算损失"
   ]
  },
  {
   "cell_type": "code",
   "execution_count": 33,
   "metadata": {},
   "outputs": [
    {
     "name": "stdout",
     "output_type": "stream",
     "text": [
      "tensor(1.2725, grad_fn=<MseLossBackward>)\n"
     ]
    }
   ],
   "source": [
    "target = torch.randn([10])\n",
    "target = target.view((1, -1))\n",
    "\n",
    "output = net(input)\n",
    "\n",
    "loss = criterion(output, target)\n",
    "print(loss)"
   ]
  },
  {
   "cell_type": "markdown",
   "metadata": {},
   "source": [
    "44.初始化梯度，计算上一步中loss的反向传播"
   ]
  },
  {
   "cell_type": "code",
   "execution_count": 34,
   "metadata": {},
   "outputs": [
    {
     "name": "stdout",
     "output_type": "stream",
     "text": [
      "conv1.bias.grad before backward\n",
      "tensor([0., 0., 0., 0., 0., 0.])\n"
     ]
    }
   ],
   "source": [
    "net.zero_grad()\n",
    "\n",
    "print('conv1.bias.grad before backward')\n",
    "print(net.conv1.bias.grad) # 前面清零了所有参数的梯度"
   ]
  },
  {
   "cell_type": "markdown",
   "metadata": {},
   "source": [
    "45.计算43中loss的反向传播"
   ]
  },
  {
   "cell_type": "code",
   "execution_count": 35,
   "metadata": {},
   "outputs": [
    {
     "name": "stdout",
     "output_type": "stream",
     "text": [
      "conv1.bias.grad after backward\n",
      "tensor([ 0.0092,  0.0130, -0.0003,  0.0033,  0.0231,  0.0059])\n"
     ]
    }
   ],
   "source": [
    "loss.backward()\n",
    "\n",
    "print('conv1.bias.grad after backward')\n",
    "print(net.conv1.bias.grad)"
   ]
  },
  {
   "cell_type": "markdown",
   "metadata": {},
   "source": [
    "## 3.3 更新权重"
   ]
  },
  {
   "cell_type": "markdown",
   "metadata": {},
   "source": [
    "46.定义SGD优化器算法，学习率设置为0.01"
   ]
  },
  {
   "cell_type": "code",
   "execution_count": 36,
   "metadata": {},
   "outputs": [],
   "source": [
    "import torch.optim as optim\n",
    "\n",
    "optimizer = optim.SGD(net.parameters(), lr = 0.01)"
   ]
  },
  {
   "cell_type": "markdown",
   "metadata": {},
   "source": [
    "47.使用优化器更新权重"
   ]
  },
  {
   "cell_type": "code",
   "execution_count": 37,
   "metadata": {},
   "outputs": [],
   "source": [
    "optimizer.zero_grad()\n",
    "output = net(input)\n",
    "loss = criterion(output, target)\n",
    "loss.backward()\n",
    "\n",
    "# 更新权重\n",
    "optimizer.step()"
   ]
  },
  {
   "cell_type": "markdown",
   "metadata": {},
   "source": [
    "# 4 训练一个分类器"
   ]
  },
  {
   "cell_type": "markdown",
   "metadata": {},
   "source": [
    "4.1 读取CIFAR10数据，做标准化"
   ]
  },
  {
   "cell_type": "markdown",
   "metadata": {},
   "source": [
    "48.构造一个transform，将三通道(0,1)区间的数据转换成(-1, 1)的数据"
   ]
  },
  {
   "cell_type": "code",
   "execution_count": 38,
   "metadata": {},
   "outputs": [],
   "source": [
    "import torchvision\n",
    "import torchvision.transforms as transforms\n",
    "\n",
    "transform = transforms.Compose([transforms.ToTensor(), transforms.Normalize((0.5, 0.5, 0.5), (0.5, 0.5, 0.5))])"
   ]
  },
  {
   "cell_type": "markdown",
   "metadata": {},
   "source": [
    "读取数据集"
   ]
  },
  {
   "cell_type": "code",
   "execution_count": 39,
   "metadata": {},
   "outputs": [],
   "source": [
    "data_path = 'D:/学习/python算法/X题掌握数据科学代码库系列'\n",
    "batch_size = 64\n",
    "trainset = torchvision.datasets.CIFAR10(root = data_path, train = True, download = False, transform = transform)\n",
    "testset = torchvision.datasets.CIFAR10(root = data_path, train = False, download = False, transform = transform)\n",
    "\n",
    "trainloader = torch.utils.data.DataLoader(trainset, batch_size = batch_size, shuffle = True, num_workers = 2)\n",
    "testloader = torch.utils.data.DataLoader(testset, batch_size = batch_size, shuffle = True, num_workers = 2)\n",
    "\n",
    "classes = ('plane', 'car', 'bird', 'cat', 'deer', 'dog', 'frog', 'horse', 'ship', 'truck')"
   ]
  },
  {
   "cell_type": "markdown",
   "metadata": {},
   "source": [
    "## 4.2 建立网络"
   ]
  },
  {
   "cell_type": "markdown",
   "metadata": {},
   "source": [
    "沿用前面定义的网络"
   ]
  },
  {
   "cell_type": "code",
   "execution_count": 40,
   "metadata": {},
   "outputs": [],
   "source": [
    "net2 = Net()"
   ]
  },
  {
   "cell_type": "markdown",
   "metadata": {},
   "source": [
    "## 4.3 定义损失函数和优化器"
   ]
  },
  {
   "cell_type": "markdown",
   "metadata": {},
   "source": [
    "49.定义交叉熵损失函数"
   ]
  },
  {
   "cell_type": "code",
   "execution_count": 41,
   "metadata": {},
   "outputs": [],
   "source": [
    "criterion2 = nn.CrossEntropyLoss()"
   ]
  },
  {
   "cell_type": "markdown",
   "metadata": {},
   "source": [
    "50.定义优化器SGD，学习率0.001，momentum为0.9"
   ]
  },
  {
   "cell_type": "code",
   "execution_count": 42,
   "metadata": {},
   "outputs": [],
   "source": [
    "optimizer2 = optim.SGD(net2.parameters(), lr = 0.001, momentum = 0.9)"
   ]
  },
  {
   "cell_type": "markdown",
   "metadata": {},
   "source": [
    "## 4.4 训练网络"
   ]
  },
  {
   "cell_type": "markdown",
   "metadata": {},
   "source": [
    "51-55题为迭代训练网络"
   ]
  },
  {
   "cell_type": "code",
   "execution_count": 43,
   "metadata": {},
   "outputs": [
    {
     "name": "stdout",
     "output_type": "stream",
     "text": [
      "Epoch 1, iteration 100, loss: 2.304\n",
      "Epoch 1, iteration 200, loss: 2.303\n",
      "Epoch 1, iteration 300, loss: 2.300\n",
      "Epoch 1, iteration 400, loss: 2.300\n",
      "Epoch 1, iteration 500, loss: 2.297\n",
      "Epoch 1, iteration 600, loss: 2.294\n",
      "Epoch 1, iteration 700, loss: 2.289\n",
      "Epoch 2, iteration 100, loss: 2.273\n",
      "Epoch 2, iteration 200, loss: 2.248\n",
      "Epoch 2, iteration 300, loss: 2.194\n",
      "Epoch 2, iteration 400, loss: 2.123\n",
      "Epoch 2, iteration 500, loss: 2.071\n",
      "Epoch 2, iteration 600, loss: 2.020\n",
      "Epoch 2, iteration 700, loss: 2.000\n",
      "Epoch 3, iteration 100, loss: 1.931\n",
      "Epoch 3, iteration 200, loss: 1.907\n",
      "Epoch 3, iteration 300, loss: 1.877\n",
      "Epoch 3, iteration 400, loss: 1.860\n",
      "Epoch 3, iteration 500, loss: 1.833\n",
      "Epoch 3, iteration 600, loss: 1.812\n",
      "Epoch 3, iteration 700, loss: 1.812\n",
      "Epoch 4, iteration 100, loss: 1.776\n",
      "Epoch 4, iteration 200, loss: 1.739\n",
      "Epoch 4, iteration 300, loss: 1.730\n",
      "Epoch 4, iteration 400, loss: 1.705\n",
      "Epoch 4, iteration 500, loss: 1.675\n",
      "Epoch 4, iteration 600, loss: 1.679\n",
      "Epoch 4, iteration 700, loss: 1.662\n",
      "Epoch 5, iteration 100, loss: 1.626\n",
      "Epoch 5, iteration 200, loss: 1.617\n",
      "Epoch 5, iteration 300, loss: 1.592\n",
      "Epoch 5, iteration 400, loss: 1.599\n",
      "Epoch 5, iteration 500, loss: 1.578\n",
      "Epoch 5, iteration 600, loss: 1.552\n",
      "Epoch 5, iteration 700, loss: 1.560\n",
      "Epoch 6, iteration 100, loss: 1.534\n",
      "Epoch 6, iteration 200, loss: 1.518\n",
      "Epoch 6, iteration 300, loss: 1.509\n",
      "Epoch 6, iteration 400, loss: 1.492\n",
      "Epoch 6, iteration 500, loss: 1.497\n",
      "Epoch 6, iteration 600, loss: 1.480\n",
      "Epoch 6, iteration 700, loss: 1.465\n",
      "Epoch 7, iteration 100, loss: 1.456\n",
      "Epoch 7, iteration 200, loss: 1.447\n",
      "Epoch 7, iteration 300, loss: 1.433\n",
      "Epoch 7, iteration 400, loss: 1.441\n",
      "Epoch 7, iteration 500, loss: 1.441\n",
      "Epoch 7, iteration 600, loss: 1.416\n",
      "Epoch 7, iteration 700, loss: 1.401\n",
      "Epoch 8, iteration 100, loss: 1.401\n",
      "Epoch 8, iteration 200, loss: 1.367\n",
      "Epoch 8, iteration 300, loss: 1.395\n",
      "Epoch 8, iteration 400, loss: 1.382\n",
      "Epoch 8, iteration 500, loss: 1.401\n",
      "Epoch 8, iteration 600, loss: 1.368\n",
      "Epoch 8, iteration 700, loss: 1.338\n",
      "Epoch 9, iteration 100, loss: 1.344\n",
      "Epoch 9, iteration 200, loss: 1.351\n",
      "Epoch 9, iteration 300, loss: 1.338\n",
      "Epoch 9, iteration 400, loss: 1.339\n",
      "Epoch 9, iteration 500, loss: 1.301\n",
      "Epoch 9, iteration 600, loss: 1.331\n",
      "Epoch 9, iteration 700, loss: 1.328\n",
      "Epoch 10, iteration 100, loss: 1.295\n",
      "Epoch 10, iteration 200, loss: 1.285\n",
      "Epoch 10, iteration 300, loss: 1.298\n",
      "Epoch 10, iteration 400, loss: 1.275\n",
      "Epoch 10, iteration 500, loss: 1.297\n",
      "Epoch 10, iteration 600, loss: 1.275\n",
      "Epoch 10, iteration 700, loss: 1.267\n",
      "Epoch 11, iteration 100, loss: 1.253\n",
      "Epoch 11, iteration 200, loss: 1.256\n",
      "Epoch 11, iteration 300, loss: 1.269\n",
      "Epoch 11, iteration 400, loss: 1.261\n",
      "Epoch 11, iteration 500, loss: 1.230\n",
      "Epoch 11, iteration 600, loss: 1.251\n",
      "Epoch 11, iteration 700, loss: 1.233\n",
      "Epoch 12, iteration 100, loss: 1.213\n",
      "Epoch 12, iteration 200, loss: 1.200\n",
      "Epoch 12, iteration 300, loss: 1.209\n",
      "Epoch 12, iteration 400, loss: 1.233\n",
      "Epoch 12, iteration 500, loss: 1.221\n",
      "Epoch 12, iteration 600, loss: 1.190\n",
      "Epoch 12, iteration 700, loss: 1.228\n",
      "Epoch 13, iteration 100, loss: 1.208\n",
      "Epoch 13, iteration 200, loss: 1.189\n",
      "Epoch 13, iteration 300, loss: 1.184\n",
      "Epoch 13, iteration 400, loss: 1.188\n",
      "Epoch 13, iteration 500, loss: 1.156\n",
      "Epoch 13, iteration 600, loss: 1.185\n",
      "Epoch 13, iteration 700, loss: 1.193\n",
      "Epoch 14, iteration 100, loss: 1.173\n",
      "Epoch 14, iteration 200, loss: 1.174\n",
      "Epoch 14, iteration 300, loss: 1.146\n",
      "Epoch 14, iteration 400, loss: 1.151\n",
      "Epoch 14, iteration 500, loss: 1.142\n",
      "Epoch 14, iteration 600, loss: 1.149\n",
      "Epoch 14, iteration 700, loss: 1.155\n",
      "Epoch 15, iteration 100, loss: 1.157\n",
      "Epoch 15, iteration 200, loss: 1.149\n",
      "Epoch 15, iteration 300, loss: 1.139\n",
      "Epoch 15, iteration 400, loss: 1.125\n",
      "Epoch 15, iteration 500, loss: 1.116\n",
      "Epoch 15, iteration 600, loss: 1.122\n",
      "Epoch 15, iteration 700, loss: 1.141\n",
      "Epoch 16, iteration 100, loss: 1.106\n",
      "Epoch 16, iteration 200, loss: 1.127\n",
      "Epoch 16, iteration 300, loss: 1.107\n",
      "Epoch 16, iteration 400, loss: 1.127\n",
      "Epoch 16, iteration 500, loss: 1.101\n",
      "Epoch 16, iteration 600, loss: 1.100\n",
      "Epoch 16, iteration 700, loss: 1.112\n",
      "Epoch 17, iteration 100, loss: 1.104\n",
      "Epoch 17, iteration 200, loss: 1.099\n",
      "Epoch 17, iteration 300, loss: 1.080\n",
      "Epoch 17, iteration 400, loss: 1.081\n",
      "Epoch 17, iteration 500, loss: 1.076\n",
      "Epoch 17, iteration 600, loss: 1.079\n",
      "Epoch 17, iteration 700, loss: 1.105\n",
      "Epoch 18, iteration 100, loss: 1.074\n",
      "Epoch 18, iteration 200, loss: 1.062\n",
      "Epoch 18, iteration 300, loss: 1.056\n",
      "Epoch 18, iteration 400, loss: 1.084\n",
      "Epoch 18, iteration 500, loss: 1.064\n",
      "Epoch 18, iteration 600, loss: 1.070\n",
      "Epoch 18, iteration 700, loss: 1.074\n",
      "Epoch 19, iteration 100, loss: 1.049\n",
      "Epoch 19, iteration 200, loss: 1.049\n",
      "Epoch 19, iteration 300, loss: 1.033\n",
      "Epoch 19, iteration 400, loss: 1.043\n",
      "Epoch 19, iteration 500, loss: 1.036\n",
      "Epoch 19, iteration 600, loss: 1.054\n",
      "Epoch 19, iteration 700, loss: 1.018\n",
      "Epoch 20, iteration 100, loss: 1.006\n",
      "Epoch 20, iteration 200, loss: 1.028\n",
      "Epoch 20, iteration 300, loss: 1.017\n",
      "Epoch 20, iteration 400, loss: 1.027\n",
      "Epoch 20, iteration 500, loss: 1.026\n",
      "Epoch 20, iteration 600, loss: 1.012\n",
      "Epoch 20, iteration 700, loss: 1.053\n",
      "Training finish!\n"
     ]
    }
   ],
   "source": [
    "for epoch in range(20):\n",
    "    \n",
    "    running_loss = 0.0\n",
    "    last_loss = 0.0\n",
    "    for i, data in enumerate(trainloader, 0):\n",
    "        # 获取数据对\n",
    "        inputs, labels = data\n",
    "        \n",
    "        # 51.初始化梯度\n",
    "        optimizer2.zero_grad()\n",
    "        \n",
    "        # 52.前馈\n",
    "        outputs = net2(inputs)\n",
    "        \n",
    "        # 53.计算损失\n",
    "        loss = criterion2(outputs, labels) # 输出放在前，标签在后\n",
    "        \n",
    "        # 54.反向传播\n",
    "        loss.backward()\n",
    "        \n",
    "        # 55.更新权重\n",
    "        optimizer2.step()\n",
    "        \n",
    "        # 每100个数据batch打印平均代价函数值\n",
    "        running_loss += loss.item()\n",
    "        if (i+1) % 100 == 0:\n",
    "            print('Epoch {}, iteration {}, loss: {:.3f}'.format(epoch + 1, i + 1, running_loss / 100))\n",
    "            last_loss = running_loss\n",
    "            running_loss = 0.0\n",
    "    if abs(last_loss - running_loss) < 0.002:\n",
    "        break\n",
    "            \n",
    "print('Training finish!')"
   ]
  },
  {
   "cell_type": "markdown",
   "metadata": {},
   "source": [
    "## 4.5 使用模型预测"
   ]
  },
  {
   "cell_type": "code",
   "execution_count": 53,
   "metadata": {},
   "outputs": [],
   "source": [
    "dataiter = iter(testloader) # 生成迭代器\n",
    "images, labels = dataiter.next()"
   ]
  },
  {
   "cell_type": "code",
   "execution_count": 54,
   "metadata": {},
   "outputs": [
    {
     "name": "stdout",
     "output_type": "stream",
     "text": [
      "GroundTruth:    cat   cat truck  bird  ship  bird   cat   cat  frog   cat\n"
     ]
    },
    {
     "data": {
      "image/png": "[encoded data removed]",
      "text/plain": [
       "<Figure size 432x288 with 1 Axes>"
      ]
     },
     "metadata": {
      "needs_background": "light"
     },
     "output_type": "display_data"
    }
   ],
   "source": [
    "# 打印图片\n",
    "import matplotlib.pyplot as plt\n",
    "from skimage import transform\n",
    "grid = torchvision.utils.make_grid(images)\n",
    "grid = torch.transpose(grid, 0, 2).numpy() # 从 3 x 274 x 274 变为 274 x 274 x 3\n",
    "grid = (grid + 1) / 2 # 从(-1,1)变为(0,1)\n",
    "grid = transform.rotate(grid, 270) # 原来的图像方向不对\n",
    "plt.imshow(grid)\n",
    "print('GroundTruth: ', ' '.join('%5s' % classes[labels[j]] for j in range(10)))"
   ]
  },
  {
   "cell_type": "markdown",
   "metadata": {},
   "source": [
    "56.使用模型预测"
   ]
  },
  {
   "cell_type": "code",
   "execution_count": 46,
   "metadata": {},
   "outputs": [
    {
     "name": "stdout",
     "output_type": "stream",
     "text": [
      "Predicted:   ship plane  deer   car  bird  frog plane plane  bird  ship\n"
     ]
    }
   ],
   "source": [
    "outputs = net2(images)\n",
    "\n",
    "_, predicted = torch.max(outputs, 1)\n",
    "\n",
    "print('Predicted: ', ' '.join('%5s' % classes[labels[j]] for j in range(10)))"
   ]
  },
  {
   "cell_type": "markdown",
   "metadata": {},
   "source": [
    "57.在测试集上打分"
   ]
  },
  {
   "cell_type": "code",
   "execution_count": 47,
   "metadata": {},
   "outputs": [
    {
     "name": "stdout",
     "output_type": "stream",
     "text": [
      "Accuracy of the network on the 10000 test images: 61.52%\n"
     ]
    }
   ],
   "source": [
    "correct = 0\n",
    "total = 0\n",
    "with torch.no_grad():\n",
    "    for data in testloader:\n",
    "        images, labels = data\n",
    "        outputs = net2(images)\n",
    "        _, predicted = torch.max(outputs.data, 1)\n",
    "        total += labels.size(0)\n",
    "        correct += (predicted == labels).sum().item()\n",
    "        \n",
    "print('Accuracy of the network on the 10000 test images: {}%'.format(100 * correct / total))"
   ]
  },
  {
   "cell_type": "markdown",
   "metadata": {},
   "source": [
    "## 4.6 存取模型"
   ]
  },
  {
   "cell_type": "markdown",
   "metadata": {},
   "source": [
    "58.保存训练好的模型"
   ]
  },
  {
   "cell_type": "code",
   "execution_count": 48,
   "metadata": {},
   "outputs": [],
   "source": [
    "PATH = './cifar_net.pth'\n",
    "torch.save(net.state_dict(), PATH) # 保存参数"
   ]
  },
  {
   "cell_type": "markdown",
   "metadata": {},
   "source": [
    "59.读取保存的模型"
   ]
  },
  {
   "cell_type": "code",
   "execution_count": 49,
   "metadata": {},
   "outputs": [],
   "source": [
    "pretrained_net = torch.load(PATH)"
   ]
  },
  {
   "cell_type": "markdown",
   "metadata": {},
   "source": [
    "60.加载模型"
   ]
  },
  {
   "cell_type": "code",
   "execution_count": 50,
   "metadata": {},
   "outputs": [
    {
     "data": {
      "text/plain": [
       "<All keys matched successfully>"
      ]
     },
     "execution_count": 50,
     "metadata": {},
     "output_type": "execute_result"
    }
   ],
   "source": [
    "net3 = Net()\n",
    "net3.load_state_dict(pretrained_net) # 将参数读入新实例化的网络中"
   ]
  }
 ],
 "metadata": {
  "kernelspec": {
   "display_name": "Python 3",
   "language": "python",
   "name": "python3"
  },
  "language_info": {
   "codemirror_mode": {
    "name": "ipython",
    "version": 3
   },
   "file_extension": ".py",
   "mimetype": "text/x-python",
   "name": "python",
   "nbconvert_exporter": "python",
   "pygments_lexer": "ipython3",
   "version": "3.7.3"
  }
 },
 "nbformat": 4,
 "nbformat_minor": 2
}
